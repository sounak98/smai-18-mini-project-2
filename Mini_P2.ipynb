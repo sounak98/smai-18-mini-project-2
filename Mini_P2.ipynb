{
 "cells": [
  {
   "cell_type": "code",
   "execution_count": 1,
   "metadata": {},
   "outputs": [],
   "source": [
    "import os\n",
    "import sys\n",
    "import pickle\n",
    "import numpy as np\n",
    "import pdb\n",
    "from collections import defaultdict\n",
    "import random \n",
    "import time\n",
    "\n",
    "from sklearn.preprocessing import StandardScaler\n",
    "from sklearn.tree import DecisionTreeClassifier\n",
    "from sklearn.neural_network import MLPClassifier\n",
    "from sklearn.decomposition import PCA\n",
    "from sklearn.discriminant_analysis import LinearDiscriminantAnalysis\n",
    "from sklearn.linear_model import LogisticRegression\n",
    "from sklearn import svm\n",
    "from sklearn.metrics import f1_score, accuracy_score\n",
    "from sklearn.model_selection import train_test_split\n",
    "from tqdm import *\n",
    "\n",
    "from functools import wraps\n",
    "from time import time as _timenow \n",
    "from sys import stderr\n",
    "\n",
    "scaler = StandardScaler()"
   ]
  },
  {
   "cell_type": "markdown",
   "metadata": {},
   "source": [
    "## Load CIFAR-10 Data"
   ]
  },
  {
   "cell_type": "code",
   "execution_count": 2,
   "metadata": {},
   "outputs": [],
   "source": [
    "def unpickle(file):\n",
    "    with open(file, 'rb') as fo:\n",
    "        data = pickle.load(fo, encoding='bytes')\n",
    "    return data\n",
    "\n",
    "def load_cifar():\n",
    "    trn_data, trn_labels, tst_data, tst_labels = [], [], [], []\n",
    "    \n",
    "    for i in trange(1):\n",
    "        batchName = './data/data_batch_{0}'.format(i + 1)\n",
    "        unpickled = unpickle(batchName)\n",
    "        trn_data.extend(unpickled[b'data'])\n",
    "        trn_labels.extend(unpickled[b'labels'])\n",
    "    \n",
    "    unpickled = unpickle('./data/test_batch')\n",
    "    tst_data.extend(unpickled[b'data'])\n",
    "    tst_labels.extend(unpickled[b'labels'])\n",
    "    return trn_data, trn_labels, tst_data, tst_labels"
   ]
  },
  {
   "cell_type": "markdown",
   "metadata": {},
   "source": [
    "## Image preprocessing"
   ]
  },
  {
   "cell_type": "code",
   "execution_count": 3,
   "metadata": {},
   "outputs": [],
   "source": [
    "def image_prep(image):\n",
    "    scaler.fit(image)\n",
    "    processed_image = scaler.transform(image)\n",
    "    return processed_image"
   ]
  },
  {
   "cell_type": "markdown",
   "metadata": {},
   "source": [
    "## Dimensionality reduction using PCA"
   ]
  },
  {
   "cell_type": "code",
   "execution_count": 4,
   "metadata": {},
   "outputs": [],
   "source": [
    "def reduce_dim(images, labels, method):\n",
    "    if method == 'pca':\n",
    "        pca = PCA(n_components=30)\n",
    "        imgs = pca.fit_transform(images)\n",
    "        print(\"The Dimensions of the images after PCA are\", imgs[0].shape)\n",
    "        return imgs\n",
    "    \n",
    "    if method == 'lda':\n",
    "        lda = LinearDiscriminantAnalysis(n_components=200)\n",
    "        imgs = lda.fit(images, labels).transform(images)\n",
    "        print(\"The Dimensions of the images after LDA are\", imgs[0].shape)\n",
    "        return imgs\n",
    "    \n",
    "    if method == 'raw':\n",
    "        print(\"The Dimensions of the raw images are\", images[0].shape)\n",
    "        return images        "
   ]
  },
  {
   "cell_type": "markdown",
   "metadata": {},
   "source": [
    "## Classification"
   ]
  },
  {
   "cell_type": "code",
   "execution_count": 22,
   "metadata": {},
   "outputs": [],
   "source": [
    "def classify(X, Y, method):    \n",
    "    if method == 'SVM':\n",
    "        clf = svm.SVC(kernel='linear')\n",
    "        print(\"Started Kernel Training\")\n",
    "        clf.fit(X, Y)\n",
    "        print(\"Softmargin linear SVM Model is Prepared\")\n",
    "\n",
    "    if method == 'RBF':\n",
    "        clf = svm.SVC(kernel='rbf', gamma='scale')\n",
    "        clf.fit(X, Y)\n",
    "        print(\"RBF kernel SVM Model is Prepared\")\n",
    "\n",
    "    if method == 'logistic':\n",
    "        clf = LogisticRegression(multi_class='auto', solver='lbfgs', max_iter=1000)\n",
    "        clf.fit(X, Y)\n",
    "        print(\"Logistic Regression Model is Prepared\")\n",
    "\n",
    "    if method == 'MLP':\n",
    "        clf = MLPClassifier(max_iter=1000)\n",
    "        clf.fit(X, Y)\n",
    "        print(\"MLP model is prepared\")\n",
    "\n",
    "    if method == 'CART':\n",
    "        clf = DecisionTreeClassifier()\n",
    "        clf.fit(X, Y)\n",
    "        print(\"Decision Tree Trained\")\n",
    "\n",
    "    return clf   "
   ]
  },
  {
   "cell_type": "markdown",
   "metadata": {},
   "source": [
    "## Evaluation "
   ]
  },
  {
   "cell_type": "code",
   "execution_count": 8,
   "metadata": {},
   "outputs": [],
   "source": [
    "def test(model, test_data, test_labels):\n",
    "    predictions = model.predict(test_data)\n",
    "    print(\"Accuracy:\",accuracy_score(test_labels, predictions))\n",
    "    print(\"F1:\", f1_score(test_labels, predictions, average='weighted'))"
   ]
  },
  {
   "cell_type": "markdown",
   "metadata": {},
   "source": [
    "## Dimensionality Reduction"
   ]
  },
  {
   "cell_type": "code",
   "execution_count": 7,
   "metadata": {},
   "outputs": [
    {
     "name": "stderr",
     "output_type": "stream",
     "text": [
      "100%|██████████| 1/1 [00:00<00:00, 15.69it/s]\n"
     ]
    },
    {
     "name": "stdout",
     "output_type": "stream",
     "text": [
      "pca\n",
      "The Dimensions of the images after PCA are (30,)\n",
      "The Dimensions of the images after PCA are (30,)\n",
      "lda\n",
      "The Dimensions of the images after LDA are (9,)\n",
      "The Dimensions of the images after LDA are (9,)\n",
      "raw\n",
      "The Dimensions of the raw images are (3072,)\n",
      "The Dimensions of the raw images are (3072,)\n"
     ]
    }
   ],
   "source": [
    "dim_reduce = [\"pca\", \"lda\", \"raw\"]\n",
    "\n",
    "X, y, _X, _y = load_cifar()\n",
    "\n",
    "N = 8000\n",
    "\n",
    "train_imgs = {}\n",
    "test_imgs = {}\n",
    "\n",
    "for _ in dim_reduce:\n",
    "    print(_)\n",
    "    train_imgs[_] = reduce_dim(X[:N], y[:N], method=_)\n",
    "    test_imgs[_] = reduce_dim(_X, _y, method=_)"
   ]
  },
  {
   "cell_type": "markdown",
   "metadata": {},
   "source": [
    "## Logistic Regression"
   ]
  },
  {
   "cell_type": "code",
   "execution_count": 18,
   "metadata": {},
   "outputs": [
    {
     "name": "stdout",
     "output_type": "stream",
     "text": [
      "pca\n",
      "Logistic Regression Model is Prepared\n",
      "Accuracy: 0.0961\n",
      "F1: 0.09267867665949577\n",
      "lda\n",
      "Logistic Regression Model is Prepared\n",
      "Accuracy: 0.4153\n",
      "F1: 0.4139908084640867\n",
      "raw\n"
     ]
    },
    {
     "name": "stderr",
     "output_type": "stream",
     "text": [
      "/Users/sounak/.pyenv/versions/3.6.5/envs/smai/lib/python3.6/site-packages/sklearn/linear_model/logistic.py:757: ConvergenceWarning: lbfgs failed to converge. Increase the number of iterations.\n",
      "  \"of iterations.\", ConvergenceWarning)\n"
     ]
    },
    {
     "name": "stdout",
     "output_type": "stream",
     "text": [
      "Logistic Regression Model is Prepared\n",
      "Accuracy: 0.2787\n",
      "F1: 0.2780054554707241\n"
     ]
    }
   ],
   "source": [
    "for _ in dim_reduce:\n",
    "    print(_)\n",
    "    model = classify(train_imgs[_], y[:N], method='logistic')\n",
    "    test(model, test_imgs[_], _y)"
   ]
  },
  {
   "cell_type": "markdown",
   "metadata": {},
   "source": [
    "## RBF Kernel"
   ]
  },
  {
   "cell_type": "code",
   "execution_count": null,
   "metadata": {},
   "outputs": [
    {
     "name": "stdout",
     "output_type": "stream",
     "text": [
      "pca\n",
      "RBF kernel SVM Model is Prepared\n",
      "Accuracy: 0.1\n",
      "F1: 0.01818181818181818\n",
      "lda\n"
     ]
    },
    {
     "name": "stderr",
     "output_type": "stream",
     "text": [
      "/Users/sounak/.pyenv/versions/3.6.5/envs/smai/lib/python3.6/site-packages/sklearn/metrics/classification.py:1143: UndefinedMetricWarning: F-score is ill-defined and being set to 0.0 in labels with no predicted samples.\n",
      "  'precision', 'predicted', average, warn_for)\n"
     ]
    },
    {
     "name": "stdout",
     "output_type": "stream",
     "text": [
      "RBF kernel SVM Model is Prepared\n",
      "Accuracy: 0.4199\n",
      "F1: 0.4179649579184184\n",
      "raw\n",
      "RBF kernel SVM Model is Prepared\n"
     ]
    }
   ],
   "source": [
    "for _ in dim_reduce:\n",
    "    print(_)\n",
    "    model = classify(train_imgs[_], y[:N], method='RBF')\n",
    "    test(model, test_imgs[_], _y)"
   ]
  },
  {
   "cell_type": "markdown",
   "metadata": {},
   "source": [
    "## CART"
   ]
  },
  {
   "cell_type": "code",
   "execution_count": 14,
   "metadata": {},
   "outputs": [
    {
     "name": "stdout",
     "output_type": "stream",
     "text": [
      "pca\n",
      "Decision Tree Trained\n",
      "Accuracy: 0.1075\n",
      "F1: 0.10701763059782572\n",
      "lda\n",
      "Decision Tree Trained\n",
      "Accuracy: 0.3157\n",
      "F1: 0.3128037755685489\n",
      "raw\n",
      "Decision Tree Trained\n",
      "Accuracy: 0.2359\n",
      "F1: 0.23577901598834647\n"
     ]
    }
   ],
   "source": [
    "for _ in dim_reduce:\n",
    "    print(_)\n",
    "    model = classify(train_imgs[_], y[:N], method='CART')\n",
    "    test(model, test_imgs[_], _y)"
   ]
  },
  {
   "cell_type": "markdown",
   "metadata": {},
   "source": [
    "## MLP"
   ]
  },
  {
   "cell_type": "code",
   "execution_count": 21,
   "metadata": {},
   "outputs": [
    {
     "name": "stdout",
     "output_type": "stream",
     "text": [
      "pca\n",
      "MLP model is prepared\n",
      "Accuracy: 0.107\n",
      "F1: 0.09898344564383543\n",
      "lda\n",
      "MLP model is prepared\n",
      "Accuracy: 0.3986\n",
      "F1: 0.3954523858932417\n",
      "raw\n",
      "MLP model is prepared\n",
      "Accuracy: 0.1\n",
      "F1: 0.018560050274619155\n"
     ]
    },
    {
     "name": "stderr",
     "output_type": "stream",
     "text": [
      "/Users/sounak/.pyenv/versions/3.6.5/envs/smai/lib/python3.6/site-packages/sklearn/metrics/classification.py:1143: UndefinedMetricWarning: F-score is ill-defined and being set to 0.0 in labels with no predicted samples.\n",
      "  'precision', 'predicted', average, warn_for)\n"
     ]
    }
   ],
   "source": [
    "for _ in dim_reduce:\n",
    "    print(_)\n",
    "    model = classify(train_imgs[_], y[:N], method='MLP')\n",
    "    test(model, test_imgs[_], _y)"
   ]
  }
 ],
 "metadata": {
  "kernelspec": {
   "display_name": "Python 3",
   "language": "python",
   "name": "python3"
  },
  "language_info": {
   "codemirror_mode": {
    "name": "ipython",
    "version": 3
   },
   "file_extension": ".py",
   "mimetype": "text/x-python",
   "name": "python",
   "nbconvert_exporter": "python",
   "pygments_lexer": "ipython3",
   "version": "3.6.5"
  }
 },
 "nbformat": 4,
 "nbformat_minor": 2
}
